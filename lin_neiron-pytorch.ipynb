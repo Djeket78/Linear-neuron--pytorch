{
 "cells": [
  {
   "cell_type": "markdown",
   "metadata": {},
   "source": [
    "Data Set"
   ]
  },
  {
   "cell_type": "code",
   "execution_count": 2,
   "metadata": {},
   "outputs": [],
   "source": [
    "X= [\n",
    "    [\n",
    "    [0,1,0],\n",
    "    [1,1,1],\n",
    "    [0,1,0],\n",
    "    ],\n",
    "    [\n",
    "    [0,0,0],\n",
    "    [1,1,1],\n",
    "    [0,0,0],\n",
    "    ],\n",
    "    [\n",
    "    [1,0,0],\n",
    "    [0,1,0],\n",
    "    [0,0,1],\n",
    "    ],\n",
    "    [\n",
    "    [1,1,1],\n",
    "    [0,0,0],\n",
    "    [1,1,1],\n",
    "    ],\n",
    "    [\n",
    "    [0,0,1],\n",
    "    [0,1,0],\n",
    "    [1,0,0],\n",
    "    ],\n",
    "    # [\n",
    "    # [0,1,0],\n",
    "    # [1,0,1],\n",
    "    # [0,1,0],\n",
    "    # ],\n",
    "    # [\n",
    "    # [0,1,0],\n",
    "    # [1,1,0],\n",
    "    # [0,1,0],\n",
    "    # ],\n",
    " \n",
    "]\n",
    "\n",
    "Y=[\n",
    "    [1],\n",
    "    [0],\n",
    "    [0],\n",
    "    [0],\n",
    "    [0],\n",
    "    # 0,\n",
    "    # 0,\n",
    "]"
   ]
  },
  {
   "cell_type": "code",
   "execution_count": 3,
   "metadata": {},
   "outputs": [
    {
     "name": "stdout",
     "output_type": "stream",
     "text": [
      "Sequential(\n",
      "  (0): Linear(in_features=9, out_features=1, bias=True)\n",
      "  (1): Sigmoid()\n",
      ")\n"
     ]
    }
   ],
   "source": [
    "import torch\n",
    "from torch import tensor\n",
    "from torch.nn import Linear, Sigmoid, Sequential, MSELoss\n",
    "from torch.optim import SGD\n",
    "\n",
    "\n",
    "model = Sequential(\n",
    "    Linear(9,1),\n",
    "    Sigmoid(),\n",
    "   \n",
    ")\n",
    "\n",
    "print(model)\n"
   ]
  },
  {
   "cell_type": "code",
   "execution_count": 4,
   "metadata": {},
   "outputs": [],
   "source": [
    "def reshapeMatrix(x_3x3):\n",
    "    x_1x9=[]\n",
    "    for ri in range(3):\n",
    "       for ci in range(3):\n",
    "           x_1x9.append(x_3x3[ri][ci])\n",
    "    return x_1x9"
   ]
  },
  {
   "cell_type": "code",
   "execution_count": 5,
   "metadata": {},
   "outputs": [
    {
     "name": "stdout",
     "output_type": "stream",
     "text": [
      "tensor([0., 0., 0., 1., 1., 1., 0., 0., 0.])\n"
     ]
    }
   ],
   "source": [
    "x = tensor(reshapeMatrix(X[1]), dtype = torch.float)\n",
    "print(x)"
   ]
  },
  {
   "cell_type": "code",
   "execution_count": 6,
   "metadata": {},
   "outputs": [],
   "source": [
    "criterion = MSELoss()     ##loss\n",
    "optimizer = SGD(model.parameters(), lr = 0.1)\n",
    "\n"
   ]
  },
  {
   "cell_type": "code",
   "execution_count": 7,
   "metadata": {},
   "outputs": [
    {
     "name": "stdout",
     "output_type": "stream",
     "text": [
      "epoch=    0 loss=   0.0522062 \n",
      "epoch=  100 loss=   0.0003404 \n",
      "epoch=  200 loss=   0.0000721 \n",
      "epoch=  300 loss=   0.0000281 \n",
      "epoch=  400 loss=   0.0000143 \n",
      "epoch=  500 loss=   0.0000085 \n",
      "epoch=  600 loss=   0.0000056 \n",
      "epoch=  700 loss=   0.0000039 \n",
      "epoch=  800 loss=   0.0000029 \n",
      "epoch=  900 loss=   0.0000022 \n",
      "epoch= 1000 loss=   0.0000018 \n",
      "epoch= 1100 loss=   0.0000014 \n",
      "epoch= 1200 loss=   0.0000012 \n",
      "epoch= 1300 loss=   0.0000010 \n",
      "epoch= 1400 loss=   0.0000008 \n",
      "epoch= 1500 loss=   0.0000007 \n",
      "epoch= 1600 loss=   0.0000006 \n",
      "epoch= 1700 loss=   0.0000005 \n",
      "epoch= 1800 loss=   0.0000005 \n",
      "epoch= 1900 loss=   0.0000004 \n"
     ]
    }
   ],
   "source": [
    "## trening\n",
    "for epoch in range(2000):\n",
    "    for i in range(len(X)):\n",
    "        avg_loss=0\n",
    "        \n",
    "        ## pick up data > tensor\n",
    "        x = tensor(reshapeMatrix(X[i]), dtype = torch.float)\n",
    "        y = tensor(Y[i], dtype = torch.float)\n",
    "        \n",
    "        ## reset the optimizer  очищается каждый круг\n",
    "        optimizer.zero_grad()\n",
    "        \n",
    "        # predict \\forward\n",
    "        yp = model(x)\n",
    "        \n",
    "        # calculate loss\n",
    "        loss = criterion(y, yp)\n",
    "        \n",
    "        # propagate error backward\n",
    "        loss.backward()\n",
    "        \n",
    "        # optimaze \\ update\n",
    "        optimizer.step()\n",
    "        \n",
    "        avg_loss += loss.item()  ## tensor > int\n",
    "    avg_loss /= len(X)\n",
    "    if epoch % 100 == 0:\n",
    "        print(f\"epoch={epoch:5} loss={avg_loss:12.7f} \")\n",
    "        "
   ]
  },
  {
   "cell_type": "markdown",
   "metadata": {},
   "source": [
    "Neuron Treining"
   ]
  },
  {
   "cell_type": "markdown",
   "metadata": {},
   "source": [
    "\n",
    "\n",
    "TESTING"
   ]
  },
  {
   "cell_type": "code",
   "execution_count": 8,
   "metadata": {},
   "outputs": [
    {
     "name": "stdout",
     "output_type": "stream",
     "text": [
      "tensor([0.9517], grad_fn=<SigmoidBackward0>) 1\n",
      "tensor([0.0498], grad_fn=<SigmoidBackward0>) 0\n",
      "tensor([0.0014], grad_fn=<SigmoidBackward0>) 0\n",
      "tensor([0.0287], grad_fn=<SigmoidBackward0>) 0\n",
      "tensor([0.0014], grad_fn=<SigmoidBackward0>) 0\n"
     ]
    }
   ],
   "source": [
    "for i in range(len(X)):\n",
    "    \n",
    "    x = tensor(reshapeMatrix(X[i]), dtype = torch.float)\n",
    "    yp = model(x)\n",
    "    \n",
    "    \n",
    "    y = 1 if yp> 0.5 else 0\n",
    "\n",
    "    print(yp, y)\n",
    "    \n",
    "\n"
   ]
  }
 ],
 "metadata": {
  "kernelspec": {
   "display_name": "Python 3.10.6 ('venv': venv)",
   "language": "python",
   "name": "python3"
  },
  "language_info": {
   "codemirror_mode": {
    "name": "ipython",
    "version": 3
   },
   "file_extension": ".py",
   "mimetype": "text/x-python",
   "name": "python",
   "nbconvert_exporter": "python",
   "pygments_lexer": "ipython3",
   "version": "3.10.6"
  },
  "orig_nbformat": 4,
  "vscode": {
   "interpreter": {
    "hash": "b746ce22d02d5af9932a70a16c32fae273a7f1554b77478026e651a3de81e408"
   }
  }
 },
 "nbformat": 4,
 "nbformat_minor": 2
}
